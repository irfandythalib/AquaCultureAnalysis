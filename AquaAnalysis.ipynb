{
 "cells": [
  {
   "cell_type": "code",
   "execution_count": 198,
   "metadata": {
    "ExecuteTime": {
     "end_time": "2022-08-01T01:20:21.280860Z",
     "start_time": "2022-08-01T01:20:21.273866Z"
    }
   },
   "outputs": [],
   "source": [
    "import pandas as pd\n",
    "from sklearn.feature_selection import SelectKBest\n",
    "from sklearn.feature_selection import chi2\n",
    "import seaborn as sns\n",
    "from matplotlib import pyplot as plt\n",
    "import numpy as np\n",
    "from sklearn.ensemble import ExtraTreesClassifier\n",
    "from sklearn.feature_selection import SelectKBest\n",
    "from sklearn.feature_selection import chi2"
   ]
  },
  {
   "cell_type": "code",
   "execution_count": 239,
   "metadata": {
    "ExecuteTime": {
     "end_time": "2022-08-01T01:31:28.879822Z",
     "start_time": "2022-08-01T01:31:28.845164Z"
    }
   },
   "outputs": [],
   "source": [
    "df = pd.read_csv('dataset.csv',sep=';')\n",
    "df = df.iloc[: , :9]\n",
    "df = df.rename(columns={df.columns[0]: 'days_of_production',df.columns[1]: 'pond_identifier',\n",
    "                       df.columns[2]: 'temp_morning',df.columns[3]: 'temp_afternoon',\n",
    "                       df.columns[4]: 'temp_evening',df.columns[5]: 'feed',\n",
    "                       df.columns[6]: 'tan_ppm',df.columns[7]: 'phosphate_ppm',df.columns[8]: 'phytoplankton_cells'})\n",
    "df = df.dropna(axis=1, how='all')\n",
    "df = df.dropna(how='all')"
   ]
  },
  {
   "cell_type": "code",
   "execution_count": 295,
   "metadata": {
    "ExecuteTime": {
     "end_time": "2022-08-01T13:48:52.485398Z",
     "start_time": "2022-08-01T13:48:51.653276Z"
    }
   },
   "outputs": [
    {
     "data": {
      "text/html": [
       "<div>\n",
       "<style scoped>\n",
       "    .dataframe tbody tr th:only-of-type {\n",
       "        vertical-align: middle;\n",
       "    }\n",
       "\n",
       "    .dataframe tbody tr th {\n",
       "        vertical-align: top;\n",
       "    }\n",
       "\n",
       "    .dataframe thead th {\n",
       "        text-align: right;\n",
       "    }\n",
       "</style>\n",
       "<table border=\"1\" class=\"dataframe\">\n",
       "  <thead>\n",
       "    <tr style=\"text-align: right;\">\n",
       "      <th></th>\n",
       "      <th>days_of_production</th>\n",
       "      <th>pond_identifier</th>\n",
       "      <th>temp_morning</th>\n",
       "      <th>temp_afternoon</th>\n",
       "      <th>temp_evening</th>\n",
       "      <th>feed</th>\n",
       "      <th>tan_ppm</th>\n",
       "      <th>phosphate_ppm</th>\n",
       "      <th>phytoplankton_cells</th>\n",
       "    </tr>\n",
       "  </thead>\n",
       "  <tbody>\n",
       "    <tr>\n",
       "      <th>0</th>\n",
       "      <td>1.0</td>\n",
       "      <td>A1</td>\n",
       "      <td>29.0</td>\n",
       "      <td>30.0</td>\n",
       "      <td>29.0</td>\n",
       "      <td>35.0</td>\n",
       "      <td>NaN</td>\n",
       "      <td>NaN</td>\n",
       "      <td>NaN</td>\n",
       "    </tr>\n",
       "    <tr>\n",
       "      <th>1</th>\n",
       "      <td>2.0</td>\n",
       "      <td>A1</td>\n",
       "      <td>30.0</td>\n",
       "      <td>32.0</td>\n",
       "      <td>29.0</td>\n",
       "      <td>35.0</td>\n",
       "      <td>NaN</td>\n",
       "      <td>NaN</td>\n",
       "      <td>NaN</td>\n",
       "    </tr>\n",
       "    <tr>\n",
       "      <th>2</th>\n",
       "      <td>3.0</td>\n",
       "      <td>A1</td>\n",
       "      <td>29.0</td>\n",
       "      <td>33.0</td>\n",
       "      <td>31.0</td>\n",
       "      <td>4.0</td>\n",
       "      <td>606.0</td>\n",
       "      <td>36.0</td>\n",
       "      <td>3.0</td>\n",
       "    </tr>\n",
       "    <tr>\n",
       "      <th>3</th>\n",
       "      <td>4.0</td>\n",
       "      <td>A1</td>\n",
       "      <td>29.0</td>\n",
       "      <td>32.0</td>\n",
       "      <td>31.0</td>\n",
       "      <td>4.0</td>\n",
       "      <td>NaN</td>\n",
       "      <td>NaN</td>\n",
       "      <td>NaN</td>\n",
       "    </tr>\n",
       "    <tr>\n",
       "      <th>4</th>\n",
       "      <td>5.0</td>\n",
       "      <td>A1</td>\n",
       "      <td>30.0</td>\n",
       "      <td>30.0</td>\n",
       "      <td>28.0</td>\n",
       "      <td>45.0</td>\n",
       "      <td>NaN</td>\n",
       "      <td>NaN</td>\n",
       "      <td>NaN</td>\n",
       "    </tr>\n",
       "  </tbody>\n",
       "</table>\n",
       "</div>"
      ],
      "text/plain": [
       "   days_of_production pond_identifier  temp_morning  temp_afternoon  \\\n",
       "0                 1.0              A1          29.0            30.0   \n",
       "1                 2.0              A1          30.0            32.0   \n",
       "2                 3.0              A1          29.0            33.0   \n",
       "3                 4.0              A1          29.0            32.0   \n",
       "4                 5.0              A1          30.0            30.0   \n",
       "\n",
       "   temp_evening  feed  tan_ppm  phosphate_ppm  phytoplankton_cells  \n",
       "0          29.0  35.0      NaN            NaN                  NaN  \n",
       "1          29.0  35.0      NaN            NaN                  NaN  \n",
       "2          31.0   4.0    606.0           36.0                  3.0  \n",
       "3          31.0   4.0      NaN            NaN                  NaN  \n",
       "4          28.0  45.0      NaN            NaN                  NaN  "
      ]
     },
     "execution_count": 295,
     "metadata": {},
     "output_type": "execute_result"
    }
   ],
   "source": [
    "df.head(5)"
   ]
  },
  {
   "cell_type": "code",
   "execution_count": 298,
   "metadata": {
    "ExecuteTime": {
     "end_time": "2022-08-01T14:00:46.793056Z",
     "start_time": "2022-08-01T14:00:46.785050Z"
    }
   },
   "outputs": [],
   "source": [
    "# df.feed.unique()\n",
    "# df['feed'].value_counts()"
   ]
  },
  {
   "cell_type": "markdown",
   "metadata": {},
   "source": [
    "Pertanyaan\n",
    "1. Cari temperatur yang paling berpengaruh untuk masing masing (feed, tan, phosphate, phytoplankton)\n",
    "2. Buat machine learning iuntuk predict isi tan, phosphate, phytoplankton yang kosong\n",
    "\n",
    "Limitation:\n",
    "1. NaN value in tan, phosphate, phytoplankton\n",
    "2. 3thousand more missing value\n",
    "3. Inconsistent valu in temp colum\n",
    "4. Inconsistent format value"
   ]
  },
  {
   "cell_type": "code",
   "execution_count": 240,
   "metadata": {
    "ExecuteTime": {
     "end_time": "2022-08-01T01:31:34.579876Z",
     "start_time": "2022-08-01T01:31:34.545420Z"
    }
   },
   "outputs": [],
   "source": [
    "\n",
    "#Change value where value==\"-\" and change type to number\n",
    "df['temp_afternoon'].mask(df['temp_afternoon'] == '-', 0, inplace=True)\n",
    "df['temp_afternoon'] = pd.to_numeric(df['temp_afternoon']).astype(float)\n",
    "\n",
    "df['temp_evening'].mask(df['temp_evening'] == '-', 0, inplace=True)\n",
    "df['temp_evening'] = pd.to_numeric(df['temp_evening']).astype(float)\n",
    "\n",
    "df['feed'].mask(df['feed'] == '-', \"0\", inplace=True)\n",
    "df['feed'] = df['feed'].str.replace(',', '').astype(float)\n",
    "df['feed'] = pd.to_numeric(df['feed'])\n",
    "\n",
    "df['tan_ppm'] = df['tan_ppm'].str.replace(',', '').astype(float)\n",
    "\n",
    "df['phosphate_ppm'] = df['phosphate_ppm'].str.replace(',', '').astype(float)\n",
    "df['phosphate_ppm'] = pd.to_numeric(df['phosphate_ppm'])\n",
    "\n",
    "df['temp_morning'] = pd.to_numeric(df['temp_morning'])\n",
    "df['phytoplankton_cells'] = pd.to_numeric(df['phytoplankton_cells'])\n",
    "\n"
   ]
  },
  {
   "cell_type": "code",
   "execution_count": 205,
   "metadata": {
    "ExecuteTime": {
     "end_time": "2022-08-01T01:21:12.725035Z",
     "start_time": "2022-08-01T01:21:12.017027Z"
    }
   },
   "outputs": [
    {
     "data": {
      "text/html": [
       "<div>\n",
       "<style scoped>\n",
       "    .dataframe tbody tr th:only-of-type {\n",
       "        vertical-align: middle;\n",
       "    }\n",
       "\n",
       "    .dataframe tbody tr th {\n",
       "        vertical-align: top;\n",
       "    }\n",
       "\n",
       "    .dataframe thead th {\n",
       "        text-align: right;\n",
       "    }\n",
       "</style>\n",
       "<table border=\"1\" class=\"dataframe\">\n",
       "  <thead>\n",
       "    <tr style=\"text-align: right;\">\n",
       "      <th></th>\n",
       "      <th>days_of_production</th>\n",
       "      <th>temp_morning</th>\n",
       "      <th>temp_afternoon</th>\n",
       "      <th>temp_evening</th>\n",
       "      <th>feed</th>\n",
       "      <th>tan_ppm</th>\n",
       "      <th>phosphate_ppm</th>\n",
       "      <th>phytoplankton_cells</th>\n",
       "    </tr>\n",
       "  </thead>\n",
       "  <tbody>\n",
       "    <tr>\n",
       "      <th>count</th>\n",
       "      <td>889.000000</td>\n",
       "      <td>889.000000</td>\n",
       "      <td>889.000000</td>\n",
       "      <td>889.000000</td>\n",
       "      <td>804.000000</td>\n",
       "      <td>248.000000</td>\n",
       "      <td>248.000000</td>\n",
       "      <td>248.000000</td>\n",
       "    </tr>\n",
       "    <tr>\n",
       "      <th>mean</th>\n",
       "      <td>45.291339</td>\n",
       "      <td>28.692913</td>\n",
       "      <td>30.339708</td>\n",
       "      <td>29.600675</td>\n",
       "      <td>47.008706</td>\n",
       "      <td>679.463710</td>\n",
       "      <td>163.536290</td>\n",
       "      <td>9.612097</td>\n",
       "    </tr>\n",
       "    <tr>\n",
       "      <th>std</th>\n",
       "      <td>26.229229</td>\n",
       "      <td>0.909884</td>\n",
       "      <td>2.086369</td>\n",
       "      <td>1.965708</td>\n",
       "      <td>56.814164</td>\n",
       "      <td>520.326609</td>\n",
       "      <td>112.716542</td>\n",
       "      <td>4.680809</td>\n",
       "    </tr>\n",
       "    <tr>\n",
       "      <th>min</th>\n",
       "      <td>1.000000</td>\n",
       "      <td>26.000000</td>\n",
       "      <td>0.000000</td>\n",
       "      <td>0.000000</td>\n",
       "      <td>4.000000</td>\n",
       "      <td>2.000000</td>\n",
       "      <td>1.000000</td>\n",
       "      <td>2.000000</td>\n",
       "    </tr>\n",
       "    <tr>\n",
       "      <th>25%</th>\n",
       "      <td>23.000000</td>\n",
       "      <td>28.000000</td>\n",
       "      <td>30.000000</td>\n",
       "      <td>29.000000</td>\n",
       "      <td>22.000000</td>\n",
       "      <td>283.000000</td>\n",
       "      <td>86.000000</td>\n",
       "      <td>5.500000</td>\n",
       "    </tr>\n",
       "    <tr>\n",
       "      <th>50%</th>\n",
       "      <td>45.000000</td>\n",
       "      <td>29.000000</td>\n",
       "      <td>31.000000</td>\n",
       "      <td>30.000000</td>\n",
       "      <td>30.000000</td>\n",
       "      <td>569.000000</td>\n",
       "      <td>142.500000</td>\n",
       "      <td>10.000000</td>\n",
       "    </tr>\n",
       "    <tr>\n",
       "      <th>75%</th>\n",
       "      <td>67.000000</td>\n",
       "      <td>29.000000</td>\n",
       "      <td>31.000000</td>\n",
       "      <td>30.000000</td>\n",
       "      <td>45.000000</td>\n",
       "      <td>912.250000</td>\n",
       "      <td>219.750000</td>\n",
       "      <td>12.500000</td>\n",
       "    </tr>\n",
       "    <tr>\n",
       "      <th>max</th>\n",
       "      <td>94.000000</td>\n",
       "      <td>31.000000</td>\n",
       "      <td>33.000000</td>\n",
       "      <td>32.000000</td>\n",
       "      <td>485.000000</td>\n",
       "      <td>2774.000000</td>\n",
       "      <td>581.000000</td>\n",
       "      <td>23.500000</td>\n",
       "    </tr>\n",
       "  </tbody>\n",
       "</table>\n",
       "</div>"
      ],
      "text/plain": [
       "       days_of_production  temp_morning  temp_afternoon  temp_evening  \\\n",
       "count          889.000000    889.000000      889.000000    889.000000   \n",
       "mean            45.291339     28.692913       30.339708     29.600675   \n",
       "std             26.229229      0.909884        2.086369      1.965708   \n",
       "min              1.000000     26.000000        0.000000      0.000000   \n",
       "25%             23.000000     28.000000       30.000000     29.000000   \n",
       "50%             45.000000     29.000000       31.000000     30.000000   \n",
       "75%             67.000000     29.000000       31.000000     30.000000   \n",
       "max             94.000000     31.000000       33.000000     32.000000   \n",
       "\n",
       "             feed      tan_ppm  phosphate_ppm  phytoplankton_cells  \n",
       "count  804.000000   248.000000     248.000000           248.000000  \n",
       "mean    47.008706   679.463710     163.536290             9.612097  \n",
       "std     56.814164   520.326609     112.716542             4.680809  \n",
       "min      4.000000     2.000000       1.000000             2.000000  \n",
       "25%     22.000000   283.000000      86.000000             5.500000  \n",
       "50%     30.000000   569.000000     142.500000            10.000000  \n",
       "75%     45.000000   912.250000     219.750000            12.500000  \n",
       "max    485.000000  2774.000000     581.000000            23.500000  "
      ]
     },
     "execution_count": 205,
     "metadata": {},
     "output_type": "execute_result"
    }
   ],
   "source": [
    "df.describe()"
   ]
  },
  {
   "cell_type": "code",
   "execution_count": 209,
   "metadata": {
    "ExecuteTime": {
     "end_time": "2022-08-01T01:21:50.164543Z",
     "start_time": "2022-08-01T01:21:50.148713Z"
    }
   },
   "outputs": [
    {
     "data": {
      "text/plain": [
       "days_of_production     float64\n",
       "pond_identifier         object\n",
       "temp_morning           float64\n",
       "temp_afternoon         float64\n",
       "temp_evening           float64\n",
       "feed                   float64\n",
       "tan_ppm                float64\n",
       "phosphate_ppm          float64\n",
       "phytoplankton_cells    float64\n",
       "dtype: object"
      ]
     },
     "execution_count": 209,
     "metadata": {},
     "output_type": "execute_result"
    }
   ],
   "source": [
    "# df.phosphate_ppm.unique()\n",
    "\n",
    "df.dtypes"
   ]
  },
  {
   "cell_type": "markdown",
   "metadata": {},
   "source": [
    "## Get Correlation of each column"
   ]
  },
  {
   "cell_type": "code",
   "execution_count": 210,
   "metadata": {
    "ExecuteTime": {
     "end_time": "2022-08-01T01:21:54.354832Z",
     "start_time": "2022-08-01T01:21:53.374543Z"
    }
   },
   "outputs": [
    {
     "data": {
      "image/png": "[encoded data removed]",
      "text/plain": [
       "<Figure size 720x720 with 2 Axes>"
      ]
     },
     "metadata": {
      "needs_background": "light"
     },
     "output_type": "display_data"
    }
   ],
   "source": [
    "# get correlations of each features in dataset\n",
    "corrmat = df.corr()\n",
    "top_corr_features = corrmat.index\n",
    "plt.figure(figsize=(10,10))\n",
    "#plot heat map\n",
    "g=sns.heatmap(df[top_corr_features].corr(),annot=True,cmap=\"RdYlGn\")"
   ]
  },
  {
   "cell_type": "markdown",
   "metadata": {},
   "source": [
    "## Feature Importance of each column with feed\n",
    "Cari temperatur yang paling berpengaruh untuk masing masing (feed, tan, phosphate, phytoplankton\n"
   ]
  },
  {
   "cell_type": "code",
   "execution_count": 250,
   "metadata": {
    "ExecuteTime": {
     "end_time": "2022-08-01T01:36:32.606884Z",
     "start_time": "2022-08-01T01:36:32.344888Z"
    },
    "scrolled": false
   },
   "outputs": [
    {
     "name": "stderr",
     "output_type": "stream",
     "text": [
      "c:\\users\\fandy\\appdata\\local\\programs\\python\\python37\\lib\\site-packages\\ipykernel_launcher.py:5: DataConversionWarning: A column-vector y was passed when a 1d array was expected. Please change the shape of y to (n_samples,), for example using ravel().\n",
      "  \"\"\"\n"
     ]
    },
    {
     "name": "stdout",
     "output_type": "stream",
     "text": [
      "[0.33541637 0.35166552 0.31291811]\n"
     ]
    },
    {
     "data": {
      "image/png": "[encoded data removed]",
      "text/plain": [
       "<Figure size 432x288 with 1 Axes>"
      ]
     },
     "metadata": {
      "needs_background": "light"
     },
     "output_type": "display_data"
    }
   ],
   "source": [
    "X = df[[\"temp_morning\",\"temp_afternoon\",\"temp_evening\"]]  #independent columns\n",
    "y = df[[\"feed\"] ]    #target column\n",
    "model = ExtraTreesClassifier()\n",
    "model.fit(X,y)\n",
    "print(model.feature_importances_) \n",
    "feat_importances = pd.Series(model.feature_importances_, index=X.columns)\n",
    "feat_importances.nlargest(10).plot(kind='barh')\n",
    "plt.title(\"Pengaruh masing masing suhu pada Feed\")\n",
    "plt.show()\n"
   ]
  },
  {
   "cell_type": "code",
   "execution_count": 287,
   "metadata": {
    "ExecuteTime": {
     "end_time": "2022-08-01T09:41:46.227918Z",
     "start_time": "2022-08-01T09:41:45.695474Z"
    }
   },
   "outputs": [
    {
     "name": "stderr",
     "output_type": "stream",
     "text": [
      "c:\\users\\fandy\\appdata\\local\\programs\\python\\python37\\lib\\site-packages\\ipykernel_launcher.py:7: DataConversionWarning: A column-vector y was passed when a 1d array was expected. Please change the shape of y to (n_samples,), for example using ravel().\n",
      "  import sys\n"
     ]
    },
    {
     "name": "stdout",
     "output_type": "stream",
     "text": [
      "[0.32587867 0.39822122 0.27590011]\n"
     ]
    },
    {
     "data": {
      "image/png": "[encoded data removed]",
      "text/plain": [
       "<Figure size 432x288 with 1 Axes>"
      ]
     },
     "metadata": {
      "needs_background": "light"
     },
     "output_type": "display_data"
    }
   ],
   "source": [
    "dftan = df[~df[\"tan_ppm\"].isnull()] #remove nan rows at tan_ppm row\n",
    "\n",
    "X = dftan[[\"temp_morning\",\"temp_afternoon\",\"temp_evening\"]]  #independent columns\n",
    "y = dftan[[\"tan_ppm\"]]   #target column\n",
    "model = ExtraTreesClassifier()\n",
    "model.fit(X,y)\n",
    "print(model.feature_importances_) \n",
    "feat_importances = pd.Series(model.feature_importances_, index=X.columns)\n",
    "feat_importances.nlargest(10).plot(kind='barh')\n",
    "plt.title(\"Pengaruh masing masing suhu pada Tan\")\n",
    "plt.show()"
   ]
  },
  {
   "cell_type": "code",
   "execution_count": 292,
   "metadata": {
    "ExecuteTime": {
     "end_time": "2022-08-01T09:44:05.811128Z",
     "start_time": "2022-08-01T09:44:02.816870Z"
    }
   },
   "outputs": [
    {
     "name": "stderr",
     "output_type": "stream",
     "text": [
      "c:\\users\\fandy\\appdata\\local\\programs\\python\\python37\\lib\\site-packages\\ipykernel_launcher.py:8: DataConversionWarning: A column-vector y was passed when a 1d array was expected. Please change the shape of y to (n_samples,), for example using ravel().\n",
      "  \n"
     ]
    },
    {
     "name": "stdout",
     "output_type": "stream",
     "text": [
      "[0.31893062 0.41208261 0.26898677]\n"
     ]
    },
    {
     "data": {
      "image/png": "[encoded data removed]",
      "text/plain": [
       "<Figure size 432x288 with 1 Axes>"
      ]
     },
     "metadata": {
      "needs_background": "light"
     },
     "output_type": "display_data"
    }
   ],
   "source": [
    "dfphosphate = df[~df[\"phosphate_ppm\"].isnull()] #remove nan rows at phytoplankton_cells row\n",
    "\n",
    "X = dfphosphate[[\"temp_morning\",\"temp_afternoon\",\"temp_evening\"]]  #independent columns\n",
    "y = dfphosphate[[\"phosphate_ppm\"]]   #target column\n",
    "model = ExtraTreesClassifier()\n",
    "model.fit(X,y)\n",
    "print(model.feature_importances_) \n",
    "feat_importances = pd.Series(model.feature_importances_, index=X.columns)\n",
    "feat_importances.nlargest(10).plot(kind='barh')\n",
    "plt.title(\"Pengaruh masing masing suhu pada Phosphate\")\n",
    "plt.show()"
   ]
  }
 ],
 "metadata": {
  "kernelspec": {
   "display_name": "Python 3",
   "language": "python",
   "name": "python3"
  },
  "language_info": {
   "codemirror_mode": {
    "name": "ipython",
    "version": 3
   },
   "file_extension": ".py",
   "mimetype": "text/x-python",
   "name": "python",
   "nbconvert_exporter": "python",
   "pygments_lexer": "ipython3",
   "version": "3.7.7"
  }
 },
 "nbformat": 4,
 "nbformat_minor": 4
}
